{
 "cells": [
  {
   "cell_type": "code",
   "execution_count": 21,
   "metadata": {
    "collapsed": true
   },
   "outputs": [],
   "source": [
    "import numpy as np\n",
    "import matplotlib.pyplot as plt\n",
    "from scipy import integrate"
   ]
  },
  {
   "cell_type": "code",
   "execution_count": 26,
   "metadata": {
    "collapsed": false
   },
   "outputs": [],
   "source": [
    "t, v= np.loadtxt(\"droptower_vdata.txt\", unpack = True) #reads times and velocities from the given data file \n",
    "#plt.plot(t,v) #plots the velocity\n",
    "#plt.show()\n",
    "\n",
    "a = np.diff(v)/t[1:11]\n",
    "#plt.plot(t[1:11], a) #plots the acceleration\n",
    "#plt.show()\n",
    "\n",
    "initial_pos = 30\n",
    "x = integrate.cumtrapz(v, t, initial=0) + initial_pos\n",
    "plt.plot(t, x)\n",
    "plt.show()\n"
   ]
  },
  {
   "cell_type": "code",
   "execution_count": null,
   "metadata": {
    "collapsed": true
   },
   "outputs": [],
   "source": []
  }
 ],
 "metadata": {
  "kernelspec": {
   "display_name": "Python 3",
   "language": "python",
   "name": "python3"
  },
  "language_info": {
   "codemirror_mode": {
    "name": "ipython",
    "version": 3
   },
   "file_extension": ".py",
   "mimetype": "text/x-python",
   "name": "python",
   "nbconvert_exporter": "python",
   "pygments_lexer": "ipython3",
   "version": "3.5.1"
  }
 },
 "nbformat": 4,
 "nbformat_minor": 0
}
